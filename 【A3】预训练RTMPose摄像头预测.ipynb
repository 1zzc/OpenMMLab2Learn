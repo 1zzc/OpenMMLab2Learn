{
 "cells": [
  {
   "cell_type": "markdown",
   "metadata": {},
   "source": [
    "# 预训练RTMPose摄像头预测\n",
    "\n",
    "同济子豪兄 2023-5-18 5-23"
   ]
  },
  {
   "cell_type": "markdown",
   "metadata": {},
   "source": [
    "## 进入mmpose目录"
   ]
  },
  {
   "cell_type": "code",
   "execution_count": 1,
   "metadata": {},
   "outputs": [],
   "source": [
    "import os\n",
    "os.chdir('mmpose')"
   ]
  },
  {
   "cell_type": "markdown",
   "metadata": {},
   "source": [
    "## 预训练模型\n",
    "\n",
    "RTMDet：https://github.com/open-mmlab/mmdetection/tree/3.x/configs/rtmdet\n",
    "\n",
    "RTMPose：https://github.com/open-mmlab/mmpose/tree/dev-1.x/projects/rtmpose"
   ]
  },
  {
   "cell_type": "markdown",
   "metadata": {},
   "source": [
    "## 摄像头预测"
   ]
  },
  {
   "cell_type": "code",
   "execution_count": 2,
   "metadata": {},
   "outputs": [
    {
     "name": "stdout",
     "output_type": "stream",
     "text": [
      "Traceback (most recent call last):\r\n",
      "  File \"demo/topdown_demo_with_mmdet.py\", line 292, in <module>\r\n",
      "    main()\r\n",
      "  File \"demo/topdown_demo_with_mmdet.py\", line 179, in main\r\n",
      "    args.det_config, args.det_checkpoint, device=args.device)\r\n",
      "  File \"/media/zhou/B6E23E81E23E4641/OpenMMLab2Learn-main/mmdetection/mmdet/apis/inference.py\", line 51, in init_detector\r\n",
      "    config = Config.fromfile(config)\r\n",
      "  File \"/home/zhou/anaconda3/envs/torch_gpu/lib/python3.7/site-packages/mmengine/config/config.py\", line 179, in fromfile\r\n",
      "    filename, use_predefined_variables, use_environment_variables)\r\n",
      "  File \"/home/zhou/anaconda3/envs/torch_gpu/lib/python3.7/site-packages/mmengine/config/config.py\", line 458, in _file2dict\r\n",
      "    check_file_exist(filename)\r\n",
      "  File \"/home/zhou/anaconda3/envs/torch_gpu/lib/python3.7/site-packages/mmengine/utils/path.py\", line 23, in check_file_exist\r\n",
      "    raise FileNotFoundError(msg_tmpl.format(filename))\r\n",
      "FileNotFoundError: file \"/media/zhou/B6E23E81E23E4641/OpenMMLab2Learn-main/mmdetetion/configs/rtmdet/rtmdet_tiny_8xb32-300e_coco.py\" does not exist\r\n"
     ]
    }
   ],
   "source": [
    "# RTMDet --> RTMPose\n",
    "!python demo/topdown_demo_with_mmdet.py \\\n",
    "        ../mmdetetion/configs/rtmdet/rtmdet_tiny_8xb32-300e_coco.py \\\n",
    "        https://download.openmmlab.com/mmdetection/v3.0/rtmdet/rtmdet_tiny_8xb32-300e_coco/rtmdet_tiny_8xb32-300e_coco_20220902_112414-78e30dcc.pth \\\n",
    "        data/rtmpose-s-triangle.py \\\n",
    "        checkpoint/rtmpose_s_triangle_300-34bfaeb2_20230512.pth \\\n",
    "        --input webcam \\\n",
    "        --output-root outputs/G2_Video \\\n",
    "        --device cpu \\\n",
    "        --bbox-thr 0.6 \\\n",
    "        --kpt-thr 0.5 \\\n",
    "        --nms-thr 0.3 \\\n",
    "        --radius 16 \\\n",
    "        --thickness 3 \\\n",
    "        --draw-bbox \\\n",
    "        --draw-heatmap \\\n",
    "        --show-kpt-idx \\\n",
    "        --show "
   ]
  }
 ],
 "metadata": {
  "kernelspec": {
   "display_name": "Python 3",
   "language": "python",
   "name": "python3"
  },
  "language_info": {
   "codemirror_mode": {
    "name": "ipython",
    "version": 3
   },
   "file_extension": ".py",
   "mimetype": "text/x-python",
   "name": "python",
   "nbconvert_exporter": "python",
   "pygments_lexer": "ipython3",
   "version": "3.7.9"
  }
 },
 "nbformat": 4,
 "nbformat_minor": 5
}
