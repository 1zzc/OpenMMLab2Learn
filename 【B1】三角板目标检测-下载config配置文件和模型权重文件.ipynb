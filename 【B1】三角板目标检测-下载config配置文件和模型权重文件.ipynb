{
 "cells": [
  {
   "cell_type": "markdown",
   "metadata": {},
   "source": [
    "# 三角板目标检测-下载config配置文件和模型权重文件\n",
    "\n",
    "同济子豪兄 2023-4-5"
   ]
  },
  {
   "cell_type": "markdown",
   "metadata": {},
   "source": [
    "## 进入 mmpose 主目录 或 mmdetection 主目录"
   ]
  },
  {
   "cell_type": "code",
   "execution_count": 1,
   "metadata": {},
   "outputs": [],
   "source": [
    "import os\n",
    "os.chdir('mmpose')\n",
    "# os.chdir('mmdetection')"
   ]
  },
  {
   "cell_type": "markdown",
   "metadata": {},
   "source": [
    "## 下载config配置文件至`data`目录"
   ]
  },
  {
   "cell_type": "code",
   "execution_count": 2,
   "metadata": {},
   "outputs": [
    {
     "name": "stdout",
     "output_type": "stream",
     "text": [
      "wget: /home/zhou/anaconda3/lib/libuuid.so.1: no version information available (required by wget)\n",
      "--2023-06-03 16:49:20--  https://zihao-openmmlab.obs.myhuaweicloud.com/20220610-mmpose/triangle_dataset/faster_r_cnn_triangle.py\n",
      "Resolving zihao-openmmlab.obs.myhuaweicloud.com (zihao-openmmlab.obs.myhuaweicloud.com)... 121.36.235.132\n",
      "Connecting to zihao-openmmlab.obs.myhuaweicloud.com (zihao-openmmlab.obs.myhuaweicloud.com)|121.36.235.132|:443... connected.\n",
      "HTTP request sent, awaiting response... 200 OK\n",
      "Length: 8056 (7.9K) [binary/octet-stream]\n",
      "Saving to: ‘data/faster_r_cnn_triangle.py’\n",
      "\n",
      "faster_r_cnn_triang 100%[===================>]   7.87K  --.-KB/s    in 0.003s  \n",
      "\n",
      "2023-06-03 16:49:20 (2.88 MB/s) - ‘data/faster_r_cnn_triangle.py’ saved [8056/8056]\n",
      "\n"
     ]
    }
   ],
   "source": [
    "# Faster R CNN 三角板目标检测\n",
    "!rm -rf data/faster_r_cnn_triangle.py\n",
    "!wget https://zihao-openmmlab.obs.myhuaweicloud.com/20220610-mmpose/triangle_dataset/faster_r_cnn_triangle.py -P data"
   ]
  },
  {
   "cell_type": "code",
   "execution_count": 3,
   "metadata": {},
   "outputs": [
    {
     "name": "stdout",
     "output_type": "stream",
     "text": [
      "wget: /home/zhou/anaconda3/lib/libuuid.so.1: no version information available (required by wget)\n",
      "--2023-06-03 16:49:33--  https://zihao-openmmlab.obs.myhuaweicloud.com/20220610-mmpose/triangle_dataset/rtmdet_tiny_triangle.py\n",
      "Resolving zihao-openmmlab.obs.myhuaweicloud.com (zihao-openmmlab.obs.myhuaweicloud.com)... 121.36.235.132\n",
      "Connecting to zihao-openmmlab.obs.myhuaweicloud.com (zihao-openmmlab.obs.myhuaweicloud.com)|121.36.235.132|:443... connected.\n",
      "HTTP request sent, awaiting response... 200 OK\n",
      "Length: 10495 (10K) [binary/octet-stream]\n",
      "Saving to: ‘data/rtmdet_tiny_triangle.py’\n",
      "\n",
      "rtmdet_tiny_triangl 100%[===================>]  10.25K  --.-KB/s    in 0.005s  \n",
      "\n",
      "2023-06-03 16:49:33 (1.94 MB/s) - ‘data/rtmdet_tiny_triangle.py’ saved [10495/10495]\n",
      "\n"
     ]
    }
   ],
   "source": [
    "# RTMDet-Tiny 三角板目标检测\n",
    "!rm -rf data/rtmdet_tiny_triangle.py\n",
    "!wget https://zihao-openmmlab.obs.myhuaweicloud.com/20220610-mmpose/triangle_dataset/rtmdet_tiny_triangle.py -P data"
   ]
  },
  {
   "cell_type": "markdown",
   "metadata": {},
   "source": [
    "## 下载模型权重文件至`checkpoint`目录"
   ]
  },
  {
   "cell_type": "code",
   "execution_count": 4,
   "metadata": {},
   "outputs": [
    {
     "name": "stdout",
     "output_type": "stream",
     "text": [
      "wget: /home/zhou/anaconda3/lib/libuuid.so.1: no version information available (required by wget)\n",
      "--2023-06-03 16:49:37--  https://zihao-openmmlab.obs.cn-east-3.myhuaweicloud.com/20220610-mmpose/triangle_dataset/ckpt/0512/faster_r_cnn_triangle_epoch_50_202305120846-76d9dde3.pth\n",
      "Resolving zihao-openmmlab.obs.cn-east-3.myhuaweicloud.com (zihao-openmmlab.obs.cn-east-3.myhuaweicloud.com)... 121.36.235.132\n",
      "Connecting to zihao-openmmlab.obs.cn-east-3.myhuaweicloud.com (zihao-openmmlab.obs.cn-east-3.myhuaweicloud.com)|121.36.235.132|:443... connected.\n",
      "HTTP request sent, awaiting response... 200 OK\n",
      "Length: 165670636 (158M) [binary/octet-stream]\n",
      "Saving to: ‘checkpoint/faster_r_cnn_triangle_epoch_50_202305120846-76d9dde3.pth’\n",
      "\n",
      "faster_r_cnn_triang 100%[===================>] 158.00M  10.3MB/s    in 16s     \n",
      "\n",
      "2023-06-03 16:49:53 (10.1 MB/s) - ‘checkpoint/faster_r_cnn_triangle_epoch_50_202305120846-76d9dde3.pth’ saved [165670636/165670636]\n",
      "\n"
     ]
    }
   ],
   "source": [
    "# Faster R CNN 三角板目标检测\n",
    "!rm -rf checkpoint/faster_r_cnn_triangle_epoch_50_202305120846-76d9dde3.pth\n",
    "!wget https://zihao-openmmlab.obs.cn-east-3.myhuaweicloud.com/20220610-mmpose/triangle_dataset/ckpt/0512/faster_r_cnn_triangle_epoch_50_202305120846-76d9dde3.pth -P checkpoint\n"
   ]
  },
  {
   "cell_type": "code",
   "execution_count": 5,
   "metadata": {},
   "outputs": [
    {
     "name": "stdout",
     "output_type": "stream",
     "text": [
      "wget: /home/zhou/anaconda3/lib/libuuid.so.1: no version information available (required by wget)\n",
      "--2023-06-03 16:49:58--  https://zihao-openmmlab.obs.cn-east-3.myhuaweicloud.com/20220610-mmpose/triangle_dataset/ckpt/0512/rtmdet_tiny_triangle_epoch_200_202305120847-3cd02a8f.pth\n",
      "Resolving zihao-openmmlab.obs.cn-east-3.myhuaweicloud.com (zihao-openmmlab.obs.cn-east-3.myhuaweicloud.com)... 121.36.235.132\n",
      "Connecting to zihao-openmmlab.obs.cn-east-3.myhuaweicloud.com (zihao-openmmlab.obs.cn-east-3.myhuaweicloud.com)|121.36.235.132|:443... connected.\n",
      "HTTP request sent, awaiting response... 200 OK\n",
      "Length: 19657604 (19M) [binary/octet-stream]\n",
      "Saving to: ‘checkpoint/rtmdet_tiny_triangle_epoch_200_202305120847-3cd02a8f.pth’\n",
      "\n",
      "rtmdet_tiny_triangl 100%[===================>]  18.75M  10.5MB/s    in 1.8s    \n",
      "\n",
      "2023-06-03 16:50:00 (10.5 MB/s) - ‘checkpoint/rtmdet_tiny_triangle_epoch_200_202305120847-3cd02a8f.pth’ saved [19657604/19657604]\n",
      "\n"
     ]
    }
   ],
   "source": [
    "# RTMDet-S 三角板目标检测\n",
    "!rm -rf checkpoint/rtmdet_tiny_triangle_epoch_200_202305120847-3cd02a8f.pth\n",
    "!wget https://zihao-openmmlab.obs.cn-east-3.myhuaweicloud.com/20220610-mmpose/triangle_dataset/ckpt/0512/rtmdet_tiny_triangle_epoch_200_202305120847-3cd02a8f.pth -P checkpoint\n"
   ]
  },
  {
   "cell_type": "markdown",
   "metadata": {},
   "source": [
    "## 注意，要在`mmpose`和`mmdetection`两个目录都运行一遍"
   ]
  },
  {
   "cell_type": "code",
   "execution_count": null,
   "metadata": {},
   "outputs": [],
   "source": []
  }
 ],
 "metadata": {
  "kernelspec": {
   "display_name": "Python 3",
   "language": "python",
   "name": "python3"
  },
  "language_info": {
   "codemirror_mode": {
    "name": "ipython",
    "version": 3
   },
   "file_extension": ".py",
   "mimetype": "text/x-python",
   "name": "python",
   "nbconvert_exporter": "python",
   "pygments_lexer": "ipython3",
   "version": "3.7.9"
  }
 },
 "nbformat": 4,
 "nbformat_minor": 5
}
