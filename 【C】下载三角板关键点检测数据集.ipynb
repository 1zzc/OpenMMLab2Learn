{
 "cells": [
  {
   "cell_type": "markdown",
   "metadata": {},
   "source": [
    "# 下载三角板关键点检测数据集\n",
    "\n",
    "同济子豪兄 2023-4-3"
   ]
  },
  {
   "cell_type": "markdown",
   "metadata": {
    "tags": []
   },
   "source": [
    "## 进入 mmpose 主目录 或 mmdetection 主目录"
   ]
  },
  {
   "cell_type": "code",
   "execution_count": 1,
   "metadata": {},
   "outputs": [],
   "source": [
    "import os\n",
    "# os.chdir('mmpose')\n",
    "os.chdir('mmdetection')"
   ]
  },
  {
   "cell_type": "markdown",
   "metadata": {
    "tags": []
   },
   "source": [
    "## 下载数据集至`data`目录"
   ]
  },
  {
   "cell_type": "code",
   "execution_count": 2,
   "metadata": {},
   "outputs": [],
   "source": [
    "# 删除原有的数据集文件（如有）\n",
    "!rm -rf data/Triangle_215_Keypoint_coco data/Triangle_215_Keypoint_coco.zip"
   ]
  },
  {
   "cell_type": "code",
   "execution_count": 3,
   "metadata": {},
   "outputs": [
    {
     "name": "stdout",
     "output_type": "stream",
     "text": [
      "wget: /home/zhou/anaconda3/lib/libuuid.so.1: no version information available (required by wget)\n",
      "--2023-06-03 19:50:03--  https://zihao-download.obs.cn-east-3.myhuaweicloud.com/yolov8/datasets/Triangle_215_Dataset/Triangle_215_Keypoint_coco.zip\n",
      "Resolving zihao-download.obs.cn-east-3.myhuaweicloud.com (zihao-download.obs.cn-east-3.myhuaweicloud.com)... 121.36.235.163, 121.36.235.162\n",
      "Connecting to zihao-download.obs.cn-east-3.myhuaweicloud.com (zihao-download.obs.cn-east-3.myhuaweicloud.com)|121.36.235.163|:443... connected.\n",
      "HTTP request sent, awaiting response... 200 OK\n",
      "Length: 191452413 (183M) [application/zip]\n",
      "Saving to: ‘data/Triangle_215_Keypoint_coco.zip’\n",
      "\n",
      "Triangle_215_Keypoi 100%[===================>] 182.58M  11.4MB/s    in 18s     \n",
      "\n",
      "2023-06-03 19:50:22 (10.2 MB/s) - ‘data/Triangle_215_Keypoint_coco.zip’ saved [191452413/191452413]\n",
      "\n"
     ]
    }
   ],
   "source": [
    "# 下载数据集压缩包\n",
    "!wget https://zihao-download.obs.cn-east-3.myhuaweicloud.com/yolov8/datasets/Triangle_215_Dataset/Triangle_215_Keypoint_coco.zip -P data\n"
   ]
  },
  {
   "cell_type": "markdown",
   "metadata": {},
   "source": [
    "## 解压数据集至`data`目录"
   ]
  },
  {
   "cell_type": "code",
   "execution_count": 4,
   "metadata": {},
   "outputs": [],
   "source": [
    "!unzip data/Triangle_215_Keypoint_coco.zip -d data >> /dev/null # 解压压缩包\n",
    "!rm -rf data/Triangle_215_Keypoint_coco.zip # 删除压缩包"
   ]
  },
  {
   "cell_type": "markdown",
   "metadata": {},
   "source": [
    "## 下载用于测试的图像和视频"
   ]
  },
  {
   "cell_type": "code",
   "execution_count": 5,
   "metadata": {},
   "outputs": [],
   "source": [
    "!mkdir data/test_triangle"
   ]
  },
  {
   "cell_type": "code",
   "execution_count": 6,
   "metadata": {},
   "outputs": [
    {
     "name": "stdout",
     "output_type": "stream",
     "text": [
      "wget: /home/zhou/anaconda3/lib/libuuid.so.1: no version information available (required by wget)\n",
      "--2023-06-03 19:50:46--  https://zihao-openmmlab.obs.myhuaweicloud.com/20220610-mmpose/triangle_dataset/test_img/triangle_1.jpg\n",
      "Resolving zihao-openmmlab.obs.myhuaweicloud.com (zihao-openmmlab.obs.myhuaweicloud.com)... 121.36.235.132\n",
      "Connecting to zihao-openmmlab.obs.myhuaweicloud.com (zihao-openmmlab.obs.myhuaweicloud.com)|121.36.235.132|:443... connected.\n",
      "HTTP request sent, awaiting response... 200 OK\n",
      "Length: 1361630 (1.3M) [image/jpeg]\n",
      "Saving to: ‘data/test_triangle/triangle_1.jpg’\n",
      "\n",
      "triangle_1.jpg      100%[===================>]   1.30M  5.80MB/s    in 0.2s    \n",
      "\n",
      "2023-06-03 19:50:46 (5.80 MB/s) - ‘data/test_triangle/triangle_1.jpg’ saved [1361630/1361630]\n",
      "\n",
      "wget: /home/zhou/anaconda3/lib/libuuid.so.1: no version information available (required by wget)\n",
      "--2023-06-03 19:50:47--  https://zihao-openmmlab.obs.myhuaweicloud.com/20220610-mmpose/triangle_dataset/test_img/triangle_2.jpg\n",
      "Resolving zihao-openmmlab.obs.myhuaweicloud.com (zihao-openmmlab.obs.myhuaweicloud.com)... 121.36.235.132\n",
      "Connecting to zihao-openmmlab.obs.myhuaweicloud.com (zihao-openmmlab.obs.myhuaweicloud.com)|121.36.235.132|:443... connected.\n",
      "HTTP request sent, awaiting response... 200 OK\n",
      "Length: 4653317 (4.4M) [image/jpeg]\n",
      "Saving to: ‘data/test_triangle/triangle_2.jpg’\n",
      "\n",
      "triangle_2.jpg      100%[===================>]   4.44M  6.44MB/s    in 0.7s    \n",
      "\n",
      "2023-06-03 19:50:48 (6.44 MB/s) - ‘data/test_triangle/triangle_2.jpg’ saved [4653317/4653317]\n",
      "\n",
      "wget: /home/zhou/anaconda3/lib/libuuid.so.1: no version information available (required by wget)\n",
      "--2023-06-03 19:50:48--  https://zihao-openmmlab.obs.myhuaweicloud.com/20220610-mmpose/triangle_dataset/test_img/triangle_3.jpg\n",
      "Resolving zihao-openmmlab.obs.myhuaweicloud.com (zihao-openmmlab.obs.myhuaweicloud.com)... 121.36.235.132\n",
      "Connecting to zihao-openmmlab.obs.myhuaweicloud.com (zihao-openmmlab.obs.myhuaweicloud.com)|121.36.235.132|:443... connected.\n",
      "HTTP request sent, awaiting response... 200 OK\n",
      "Length: 865194 (845K) [image/jpeg]\n",
      "Saving to: ‘data/test_triangle/triangle_3.jpg’\n",
      "\n",
      "triangle_3.jpg      100%[===================>] 844.92K  1.84MB/s    in 0.4s    \n",
      "\n",
      "2023-06-03 19:50:49 (1.84 MB/s) - ‘data/test_triangle/triangle_3.jpg’ saved [865194/865194]\n",
      "\n",
      "wget: /home/zhou/anaconda3/lib/libuuid.so.1: no version information available (required by wget)\n",
      "--2023-06-03 19:50:49--  https://zihao-openmmlab.obs.myhuaweicloud.com/20220610-mmpose/triangle_dataset/test_img/triangle_4.jpg\n",
      "Resolving zihao-openmmlab.obs.myhuaweicloud.com (zihao-openmmlab.obs.myhuaweicloud.com)... 121.36.235.132\n",
      "Connecting to zihao-openmmlab.obs.myhuaweicloud.com (zihao-openmmlab.obs.myhuaweicloud.com)|121.36.235.132|:443... connected.\n",
      "HTTP request sent, awaiting response... 200 OK\n",
      "Length: 1037930 (1014K) [image/jpeg]\n",
      "Saving to: ‘data/test_triangle/triangle_4.jpg’\n",
      "\n",
      "triangle_4.jpg      100%[===================>]   1014K  5.00MB/s    in 0.2s    \n",
      "\n",
      "2023-06-03 19:50:49 (5.00 MB/s) - ‘data/test_triangle/triangle_4.jpg’ saved [1037930/1037930]\n",
      "\n",
      "wget: /home/zhou/anaconda3/lib/libuuid.so.1: no version information available (required by wget)\n",
      "--2023-06-03 19:50:49--  https://zihao-openmmlab.obs.myhuaweicloud.com/20220610-mmpose/triangle_dataset/videos/triangle_6.mp4\n",
      "Resolving zihao-openmmlab.obs.myhuaweicloud.com (zihao-openmmlab.obs.myhuaweicloud.com)... 121.36.235.132\n",
      "Connecting to zihao-openmmlab.obs.myhuaweicloud.com (zihao-openmmlab.obs.myhuaweicloud.com)|121.36.235.132|:443... connected.\n",
      "HTTP request sent, awaiting response... 200 OK\n",
      "Length: 4361332 (4.2M) [video/mp4]\n",
      "Saving to: ‘data/test_triangle/triangle_6.mp4’\n",
      "\n",
      "triangle_6.mp4      100%[===================>]   4.16M  9.01MB/s    in 0.5s    \n",
      "\n",
      "2023-06-03 19:50:50 (9.01 MB/s) - ‘data/test_triangle/triangle_6.mp4’ saved [4361332/4361332]\n",
      "\n",
      "wget: /home/zhou/anaconda3/lib/libuuid.so.1: no version information available (required by wget)\n",
      "--2023-06-03 19:50:50--  https://zihao-openmmlab.obs.myhuaweicloud.com/20220610-mmpose/triangle_dataset/videos/triangle_7.mp4\n",
      "Resolving zihao-openmmlab.obs.myhuaweicloud.com (zihao-openmmlab.obs.myhuaweicloud.com)... 121.36.235.132\n",
      "Connecting to zihao-openmmlab.obs.myhuaweicloud.com (zihao-openmmlab.obs.myhuaweicloud.com)|121.36.235.132|:443... connected.\n",
      "HTTP request sent, awaiting response... 200 OK\n",
      "Length: 3358088 (3.2M) [video/mp4]\n",
      "Saving to: ‘data/test_triangle/triangle_7.mp4’\n",
      "\n",
      "triangle_7.mp4      100%[===================>]   3.20M  8.24MB/s    in 0.4s    \n",
      "\n",
      "2023-06-03 19:50:51 (8.24 MB/s) - ‘data/test_triangle/triangle_7.mp4’ saved [3358088/3358088]\n",
      "\n",
      "wget: /home/zhou/anaconda3/lib/libuuid.so.1: no version information available (required by wget)\n",
      "--2023-06-03 19:50:51--  https://zihao-openmmlab.obs.myhuaweicloud.com/20220610-mmpose/triangle_dataset/videos/triangle_9.mp4\n",
      "Resolving zihao-openmmlab.obs.myhuaweicloud.com (zihao-openmmlab.obs.myhuaweicloud.com)... 121.36.235.132\n",
      "Connecting to zihao-openmmlab.obs.myhuaweicloud.com (zihao-openmmlab.obs.myhuaweicloud.com)|121.36.235.132|:443... connected.\n",
      "HTTP request sent, awaiting response... 200 OK\n",
      "Length: 4881965 (4.7M) [video/mp4]\n",
      "Saving to: ‘data/test_triangle/triangle_9.mp4’\n",
      "\n",
      "triangle_9.mp4      100%[===================>]   4.66M  8.95MB/s    in 0.5s    \n",
      "\n",
      "2023-06-03 19:50:52 (8.95 MB/s) - ‘data/test_triangle/triangle_9.mp4’ saved [4881965/4881965]\n",
      "\n"
     ]
    }
   ],
   "source": [
    "# 图像-30度直角三角板，拍摄：同济子豪兄、田文博\n",
    "!wget https://zihao-openmmlab.obs.myhuaweicloud.com/20220610-mmpose/triangle_dataset/test_img/triangle_1.jpg -P data/test_triangle\n",
    "!wget https://zihao-openmmlab.obs.myhuaweicloud.com/20220610-mmpose/triangle_dataset/test_img/triangle_2.jpg -P data/test_triangle\n",
    "!wget https://zihao-openmmlab.obs.myhuaweicloud.com/20220610-mmpose/triangle_dataset/test_img/triangle_3.jpg -P data/test_triangle\n",
    "!wget https://zihao-openmmlab.obs.myhuaweicloud.com/20220610-mmpose/triangle_dataset/test_img/triangle_4.jpg -P data/test_triangle\n",
    "\n",
    "# 视频-30度直角三角板，拍摄：同济子豪兄，田文博\n",
    "!wget https://zihao-openmmlab.obs.myhuaweicloud.com/20220610-mmpose/triangle_dataset/videos/triangle_6.mp4 -P data/test_triangle\n",
    "!wget https://zihao-openmmlab.obs.myhuaweicloud.com/20220610-mmpose/triangle_dataset/videos/triangle_7.mp4 -P data/test_triangle\n",
    "!wget https://zihao-openmmlab.obs.myhuaweicloud.com/20220610-mmpose/triangle_dataset/videos/triangle_9.mp4 -P data/test_triangle"
   ]
  },
  {
   "cell_type": "markdown",
   "metadata": {},
   "source": [
    "## 查看数据集中的图片"
   ]
  },
  {
   "cell_type": "code",
   "execution_count": 7,
   "metadata": {},
   "outputs": [],
   "source": [
    "# from PIL import Image\n",
    "# Image.open('data/Triangle_215_Keypoint_coco/images/DSC_0373.jpg')"
   ]
  },
  {
   "cell_type": "markdown",
   "metadata": {},
   "source": [
    "## 删除系统自动生成的多余文件\n",
    "\n",
    "建议在 Linux 系统中运行爬虫、划分训练集测试集代码"
   ]
  },
  {
   "cell_type": "markdown",
   "metadata": {},
   "source": [
    "### 查看待删除的多余文件"
   ]
  },
  {
   "cell_type": "code",
   "execution_count": 7,
   "metadata": {},
   "outputs": [],
   "source": [
    "!find . -iname '__MACOSX'"
   ]
  },
  {
   "cell_type": "code",
   "execution_count": 8,
   "metadata": {},
   "outputs": [],
   "source": [
    "!find . -iname '.DS_Store'"
   ]
  },
  {
   "cell_type": "code",
   "execution_count": 9,
   "metadata": {},
   "outputs": [],
   "source": [
    "!find . -iname '.ipynb_checkpoints'"
   ]
  },
  {
   "cell_type": "markdown",
   "metadata": {},
   "source": [
    "### 删除多余文件"
   ]
  },
  {
   "cell_type": "code",
   "execution_count": 10,
   "metadata": {},
   "outputs": [],
   "source": [
    "!for i in `find . -iname '__MACOSX'`; do rm -rf $i;done"
   ]
  },
  {
   "cell_type": "code",
   "execution_count": 11,
   "metadata": {},
   "outputs": [],
   "source": [
    "!for i in `find . -iname '.DS_Store'`; do rm -rf $i;done"
   ]
  },
  {
   "cell_type": "code",
   "execution_count": 12,
   "metadata": {},
   "outputs": [],
   "source": [
    "!for i in `find . -iname '.ipynb_checkpoints'`; do rm -rf $i;done"
   ]
  },
  {
   "cell_type": "markdown",
   "metadata": {},
   "source": [
    "### 验证多余文件已删除"
   ]
  },
  {
   "cell_type": "code",
   "execution_count": 13,
   "metadata": {},
   "outputs": [],
   "source": [
    "!find . -iname '__MACOSX'"
   ]
  },
  {
   "cell_type": "code",
   "execution_count": 14,
   "metadata": {},
   "outputs": [],
   "source": [
    "!find . -iname '.DS_Store'"
   ]
  },
  {
   "cell_type": "code",
   "execution_count": 15,
   "metadata": {},
   "outputs": [],
   "source": [
    "!find . -iname '.ipynb_checkpoints'"
   ]
  },
  {
   "cell_type": "markdown",
   "metadata": {},
   "source": [
    "## 注意，要在`mmpose`和`mmdetection`两个目录都运行一遍"
   ]
  },
  {
   "cell_type": "code",
   "execution_count": null,
   "metadata": {},
   "outputs": [],
   "source": []
  }
 ],
 "metadata": {
  "kernelspec": {
   "display_name": "Python 3",
   "language": "python",
   "name": "python3"
  },
  "language_info": {
   "codemirror_mode": {
    "name": "ipython",
    "version": 3
   },
   "file_extension": ".py",
   "mimetype": "text/x-python",
   "name": "python",
   "nbconvert_exporter": "python",
   "pygments_lexer": "ipython3",
   "version": "3.7.9"
  }
 },
 "nbformat": 4,
 "nbformat_minor": 5
}
